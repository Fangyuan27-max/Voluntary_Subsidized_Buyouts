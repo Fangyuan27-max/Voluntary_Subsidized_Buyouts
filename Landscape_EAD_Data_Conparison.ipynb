{
 "cells": [
  {
   "cell_type": "code",
   "execution_count": null,
   "metadata": {
    "collapsed": true
   },
   "outputs": [],
   "source": [
    "import numpy as np\n",
    "import pandas as pd\n",
    "import numpy as np\n",
    "import matplotlib.pyplot as plt\n",
    "\n",
    "EAD_7 = pd.read_csv('landscape7_fragility1.0_pumping0.5.csv')\n",
    "EAD_8 = pd.read_csv('landscape8_fragility1.0_pumping0.5.csv')\n",
    "\n",
    "# ead7_list = set(list(EAD_7['structure_id'].unique()))\n",
    "# ead8_list = set(list(EAD_8['structure_id'].unique()))\n",
    "# It seems that 5/6 of residents in Landscape 8 will have a non-zero year 0 ead\n",
    "# print(len(ead7_list))\n",
    "# print(len(ead8_list))\n",
    "# print(len(ead7_list.intersection(ead8_list)))\n",
    "\n",
    "plt.boxplot(EAD_8['ead_fwoa_year00'].values)\n",
    "plt.show()\n",
    "# print(EAD_8['ead_fwoa_year00'])"
   ]
  },
  {
   "cell_type": "code",
   "execution_count": null,
   "outputs": [],
   "source": [
    "# plot the average EAD trend for landscape 7 and landscape 8\n",
    "x = np.arange(0, 51, 1)\n",
    "EAD_7 = pd.read_csv('landscape7_fragility1.0_pumping0.5.csv')\n",
    "EAD_8 = pd.read_csv('landscape8_fragility1.0_pumping0.5.csv')\n",
    "EAD_Value_7 = EAD_7.iloc[:,2:]\n",
    "EAD_Value_8 = EAD_8.iloc[:,2:]\n",
    "Avg_7 = EAD_Value_7.mean().tolist()\n",
    "Avg_8 = EAD_Value_8.mean().tolist()\n",
    "\n",
    "plt.figure()\n",
    "plt.plot(x, Avg_7, label = 'Landscape 7')\n",
    "plt.plot(x, Avg_8, label = 'Landscape 8')\n",
    "plt.title('Yearly Average EAD')\n",
    "plt.legend()\n",
    "plt.show()"
   ],
   "metadata": {
    "collapsed": false
   }
  }
 ],
 "metadata": {
  "kernelspec": {
   "display_name": "Python 3",
   "language": "python",
   "name": "python3"
  },
  "language_info": {
   "codemirror_mode": {
    "name": "ipython",
    "version": 2
   },
   "file_extension": ".py",
   "mimetype": "text/x-python",
   "name": "python",
   "nbconvert_exporter": "python",
   "pygments_lexer": "ipython2",
   "version": "2.7.6"
  }
 },
 "nbformat": 4,
 "nbformat_minor": 0
}
