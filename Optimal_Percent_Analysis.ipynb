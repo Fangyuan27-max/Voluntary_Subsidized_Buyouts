{
 "cells": [
  {
   "cell_type": "code",
   "execution_count": null,
   "metadata": {
    "collapsed": true
   },
   "outputs": [],
   "source": [
    "import numpy as np\n",
    "import pandas as pd\n",
    "\n",
    "resList = np.load('Resident_gov3_res12.npy', allow_pickle=True)"
   ]
  },
  {
   "cell_type": "code",
   "execution_count": null,
   "outputs": [],
   "source": [
    "res_percent = []\n",
    "res_self_relocation_year = []\n",
    "res_opt_relocation_year = []\n",
    "for res in resList:\n",
    "    if res.optimotiFlag == True:\n",
    "        optimal_relocation_year = res.optmotiMoveYear\n",
    "\n",
    "        res_opt_relocation_year.append(res.optmotiMoveYear)\n",
    "        res_self_relocation_year.append(res.selfMoveYear)\n",
    "\n",
    "        res_percent.append(res.Subsidyneeded[optimal_relocation_year] / res.replacementcost)\n",
    "\n",
    "import matplotlib.pyplot as plt\n",
    "plt.scatter(res_self_relocation_year, res_percent)\n",
    "plt.show()"
   ],
   "metadata": {
    "collapsed": false
   }
  },
  {
   "cell_type": "code",
   "execution_count": null,
   "outputs": [],
   "source": [
    "# plot the percent for those choosing never to relocate\n",
    "never_self_relocate = [1 if x> 100 else 0 for x in res_self_relocation_year ]\n",
    "never_self_relocation_percent = [never_self_relocate[i] * res_percent[i] for i in range(len(res_percent))]\n",
    "neverself_optrelocate = [res_opt_relocation_year[i] if never_self_relocate[i] == 1 else 200 for i in range(len(res_percent))]\n",
    "\n",
    "y_never = [i for i in never_self_relocation_percent if i != 0]\n",
    "x_never = [i for i in neverself_optrelocate if i != 200]\n",
    "\n",
    "plt.scatter(x_never, y_never)\n",
    "plt.xticks(np.arange(0, 21, 1))\n",
    "plt.title('Relocation Percent VS Optimally Motivated Residents - When residents never self-relocate')\n",
    "plt.xlabel('Optimal Relocation Year')\n",
    "plt.ylabel('Subsidy Percent')\n",
    "plt.show()"
   ],
   "metadata": {
    "collapsed": false
   }
  },
  {
   "cell_type": "code",
   "execution_count": null,
   "outputs": [],
   "source": [
    "# creat dataframe\n",
    "df = {}\n",
    "year_list = list(np.arange(0, 20, 1))\n",
    "for year in year_list:\n",
    "    df[year] = []\n",
    "for i in range(len(x_never)):\n",
    "    df[x_never[i]].append(y_never[i])\n",
    "\n",
    "labels, values = [], []\n",
    "for key, value_list in df.items():\n",
    "    labels.extend([key] * len(value_list))\n",
    "    values.extend(value_list)\n",
    "\n",
    "# Plot\n",
    "import seaborn as sns\n",
    "plt.figure(figsize=(10, 6))\n",
    "sns.violinplot(x=labels, y=values)\n",
    "plt.xlabel('Optimal Relocation Year')\n",
    "plt.ylabel('Optimal subsidy/Replacement cost')\n",
    "plt.title(\"For residents never self-relocating\")\n",
    "plt.ylim(0, 1)\n",
    "plt.show()"
   ],
   "metadata": {
    "collapsed": false
   }
  },
  {
   "cell_type": "code",
   "execution_count": null,
   "outputs": [],
   "source": [
    "# plot the percent for those whose self-relocation year is earlier than year 20\n",
    "self_relocate = [1 if x< 21 else 0 for x in res_self_relocation_year ]\n",
    "self_relocation_percent = [self_relocate[i] * res_percent[i] for i in range(len(res_percent))]\n",
    "self_optrelocate = [res_opt_relocation_year[i] if self_relocate[i] == 1 else 200 for i in range(len(res_percent))]\n",
    "\n",
    "self_relocation_year = [res_self_relocation_year[i] if self_relocate[i] == 1 else 200 for i in range(len(res_percent))]\n",
    "\n",
    "x_will = [i for i in self_optrelocate if i != 200]\n",
    "x_will2 = [i for i in self_relocation_year if i != 200]\n",
    "y_will = [i for i in self_relocation_percent if i != 0]\n",
    "\n",
    "plt.scatter(x_will, y_will)\n",
    "plt.xticks(np.arange(0, 21, 1))\n",
    "plt.title('Relocation Percent VS Optimally Motivated Residents - When residents will self-relocate')\n",
    "plt.xlabel('Optimal Relocation Year')\n",
    "plt.ylabel('Subsidy Percent')\n",
    "plt.show()"
   ],
   "metadata": {
    "collapsed": false
   }
  },
  {
   "cell_type": "code",
   "execution_count": null,
   "outputs": [],
   "source": [
    "# the scatter plot is not intuitive, design densitity curves to illustrate distribution\n",
    "# creat dataframe\n",
    "df = {}\n",
    "year_list = list(np.arange(0, 20, 1))\n",
    "for year in year_list:\n",
    "    df[year] = []\n",
    "for i in range(len(x_will)):\n",
    "    df[x_will[i]].append(y_will[i])\n",
    "\n",
    "labels, values = [], []\n",
    "for key, value_list in df.items():\n",
    "    labels.extend([key] * len(value_list))\n",
    "    values.extend(value_list)\n",
    "\n",
    "# Plot\n",
    "import seaborn as sns\n",
    "plt.figure(figsize=(10, 6))\n",
    "sns.violinplot(x=labels, y=values)\n",
    "plt.xlabel('Optimal Relocation Year')\n",
    "plt.ylabel('Optimal subsidy/Replacement cost')\n",
    "plt.title(\"For residents whose self-relocation are before year 20\")\n",
    "plt.ylim(0, 1)\n",
    "plt.show()"
   ],
   "metadata": {
    "collapsed": false
   }
  },
  {
   "cell_type": "code",
   "execution_count": null,
   "outputs": [],
   "source": [
    "df = {}\n",
    "year_list = list(np.arange(0, 21, 1))\n",
    "for year in year_list:\n",
    "    df[year] = []\n",
    "for i in range(len(x_will2)):\n",
    "    df[x_will2[i]].append(y_will[i])\n",
    "\n",
    "labels, values = [], []\n",
    "for key, value_list in df.items():\n",
    "    labels.extend([key] * len(value_list))\n",
    "    values.extend(value_list)\n",
    "\n",
    "# Plot\n",
    "import seaborn as sns\n",
    "plt.figure(figsize=(10, 6))\n",
    "sns.violinplot(x=labels, y=values)\n",
    "plt.xlabel('Self Relocation Year')\n",
    "plt.ylabel('Optimal subsidy/Replacement cost')\n",
    "plt.title(\"For residents whose self-relocation are before year 20\")\n",
    "plt.ylim(0, 1)\n",
    "plt.show()"
   ],
   "metadata": {
    "collapsed": false
   }
  },
  {
   "cell_type": "code",
   "execution_count": null,
   "outputs": [],
   "source": [
    "# this part is going to be displaying overall bcr and subsidy, for the optimal subsidy plan\n",
    "# Firstly, create a dictionary, storing for residents motivated to relocate under the optimal subsidy plan. Elements being stored include: id, EAD reduction, subsidy, bcr; after the dictionary is generated, sort the data by bcr\n",
    "import pandas as pd\n",
    "df_fix = pd.read_csv('Fixed_Relocated_Residents_8_gov3_res12.csv')\n",
    "df_fix_motivated = df_fix[df_fix['Fix_Motivated_Or_Not'] == 1]\n",
    "print(df_fix_motivated.shape)\n",
    "# calculate the bcr and sort\n",
    "df_fix_motivated['BCR'] = df_fix_motivated['Fix_EAD_Reduction']/df_fix_motivated['Fix_Subsidy_Discounted']\n",
    "# sort the dataframe by ranking the 'BCR'\n",
    "df_fix_motivated_sorted = df_fix_motivated.sort_values(by = 'BCR', ascending=False)\n",
    "# obtain two new different columns named 'Accumulated BCR' and 'Accumulated Subsidy'\n",
    "df_fix_motivated_sorted['Subsidy_cumsum'] = df_fix_motivated_sorted['Fix_Subsidy_Discounted'].cumsum()\n",
    "df_fix_motivated_sorted['EAD_cumsum'] = df_fix_motivated_sorted['Fix_EAD_Reduction'].cumsum()\n",
    "df_fix_motivated_sorted['BCR_Accumulated'] = df_fix_motivated_sorted['EAD_cumsum']/df_fix_motivated_sorted['Subsidy_cumsum']\n",
    "# visualize the figure\n",
    "import matplotlib.pyplot as plt\n",
    "plt.plot(df_fix_motivated_sorted['Subsidy_cumsum'], df_fix_motivated_sorted['BCR_Accumulated'])\n",
    "plt.xlabel('Accumulated Subsidy')\n",
    "plt.ylabel('Accumulated Benefit-Cost Ratio')\n",
    "plt.title('Landscape 8, Fixed subsidy plan')\n",
    "plt.show()"
   ],
   "metadata": {
    "collapsed": false
   }
  },
  {
   "cell_type": "code",
   "execution_count": null,
   "outputs": [],
   "source": [
    "df_opt = pd.read_csv('Optimal_Relocated_Residents_8_gov3_res12.csv')\n",
    "df_opt_motivated = df_opt[df_opt['Opt_Motivated_Or_Not'] == 1]\n",
    "print(df_opt_motivated.shape)\n",
    "# drop the item where the subsidy is 0\n",
    "df_opt_motivated = df_opt_motivated[df_opt_motivated['Opt_Subsidy_Discounted'] != 0]\n",
    "# calculate the bcr and sort\n",
    "df_opt_motivated['BCR'] = df_opt_motivated['Opt_EAD_Reduction']/df_opt_motivated['Opt_Subsidy_Discounted']\n",
    "# sort the dataframe by ranking the 'BCR'\n",
    "df_opt_motivated_sorted = df_opt_motivated.sort_values(by = 'BCR', ascending = False)\n",
    "# obtain two new different columns named 'Accumulated BCR' and 'Accumulated Subsidy'\n",
    "df_opt_motivated_sorted['Subsidy_cumsum'] = df_opt_motivated_sorted['Opt_Subsidy_Discounted'].cumsum()\n",
    "df_opt_motivated_sorted['EAD_cumsum'] = df_opt_motivated_sorted['Opt_EAD_Reduction'].cumsum()\n",
    "df_opt_motivated_sorted['BCR_Accumulated'] = df_opt_motivated_sorted['EAD_cumsum']/df_opt_motivated_sorted['Subsidy_cumsum']\n",
    "# visualize the figure\n",
    "import matplotlib.pyplot as plt\n",
    "plt.plot(df_opt_motivated_sorted['Subsidy_cumsum'], df_opt_motivated_sorted['BCR_Accumulated'])\n",
    "plt.xlabel('Accumulated Subsidy')\n",
    "plt.ylabel('Accumulated Benefit-Cost Ratio')\n",
    "plt.title('Landscape 8, Optimal subsidy plan')\n",
    "plt.show()"
   ],
   "metadata": {
    "collapsed": false
   }
  },
  {
   "cell_type": "code",
   "execution_count": null,
   "outputs": [],
   "source": [
    "plt.figure()\n",
    "plt.scatter(df_fix_motivated_sorted['Subsidy_cumsum'], df_fix_motivated_sorted['BCR_Accumulated'], label = 'Fixed', color = 'blue')\n",
    "plt.scatter(df_opt_motivated_sorted['Subsidy_cumsum'], df_opt_motivated_sorted['BCR_Accumulated'], label = 'Opt', color = 'orange')\n",
    "plt.legend()\n",
    "plt.show()"
   ],
   "metadata": {
    "collapsed": false
   }
  },
  {
   "cell_type": "code",
   "execution_count": null,
   "outputs": [],
   "source": [
    "idlist = [352005, 704739, 97885, 646743, 685146]\n",
    "result = []\n",
    "## create a dictionary mappings ids to objects\n",
    "id_to_object = {obj.idx: obj for obj in resList}\n",
    "## lookup the objects by their ids\n",
    "for id in idlist:\n",
    "    id_result = {}\n",
    "    id_result['id'] = id\n",
    "    obj = id_to_object.get(id)\n",
    "    if obj:\n",
    "        id_result['rc1'] = obj.replacementcost\n",
    "        id_result['rc2'] = obj.relocationcost\n",
    "        id_result['eadlist'] = obj.ead\n",
    "        id_result['self_year'] = obj.selfMoveYear\n",
    "        id_result['fix_year'] = obj.motiMoveYear\n",
    "        id_result['opt_year'] = obj.optmotiMoveYear\n",
    "        id_result['opt_subsidy'] = obj.Subsidyneeded[obj.optmotiMoveYear]\n",
    "    result.append(id_result)\n",
    "result = pd.DataFrame(result)\n",
    "print(result)"
   ],
   "metadata": {
    "collapsed": false
   }
  },
  {
   "cell_type": "code",
   "execution_count": null,
   "outputs": [],
   "source": [
    "# plot the year EAD for those structures\n",
    "year = np.arange(0, 51, 1)\n",
    "decision = np.arange(0, 21, 1)\n",
    "for id in idlist:\n",
    "    ead = result[result['id'] == id]['eadlist'].values[0]\n",
    "    replacement = result[result['id'] == id]['rc1'].values[0]\n",
    "    relocation = result[result['id'] == id]['rc2'].values[0]\n",
    "    future_ead = [sum([ead[j]/1.12**(j-i) for j in np.arange(i, i+31)]) for i in decision]\n",
    "\n",
    "    cost = [replacement+relocation for i in decision]\n",
    "    # fig, ax = plt.subplots()\n",
    "    plt.plot(year, ead, label = 'yearly undiscounted ead', color = 'red')\n",
    "\n",
    "    # # get second axes\n",
    "    # ax2 = ax.twinx()\n",
    "    # plt.plot(decision, future_ead, label = 'future flood loss', color = 'darkorange')\n",
    "    # plt.plot(decision, cost, label = 'RC1+RC2', color = 'red')\n",
    "\n",
    "    plt.legend()\n",
    "    plt.show()"
   ],
   "metadata": {
    "collapsed": false
   }
  },
  {
   "cell_type": "code",
   "execution_count": null,
   "outputs": [],
   "source": [
    "# plot the government loss curve for those structures\n",
    "year = np.arange(0, 51, 1)\n",
    "decision = np.arange(0, 21, 1)\n",
    "for id in idlist:\n",
    "    obj = id_to_object.get(id)\n",
    "    if obj:\n",
    "        print('Resident')\n",
    "        # print(obj.Subsidyneeded)\n",
    "        ead = obj.ead\n",
    "        # print('ead', ead)\n",
    "        # if there is no motivated relocation, what is the accumulated loss that government has to bear in every year\n",
    "        past_loss =  [sum([ead[j]/1.05**j for j in np.arange(0, i)]) for i in decision]\n",
    "        # print('past loss', past_loss)\n",
    "        # government loss as a function of both flood losses and subsidy expenses\n",
    "        loss_subsidy = [sum([ead[j]/1.03**j for j in np.arange(0, i)])+ obj.Subsidyneeded[i]/1.05**i for i in decision]\n",
    "        # print('loss and subsidy', loss_subsidy)\n",
    "    plt.figure()\n",
    "    plt.plot(decision, past_loss, label = 'past loss from the government view', color = 'darkorange')\n",
    "    plt.plot(decision, loss_subsidy, label = 'past loss and subsidy from the government view', color = 'red')\n",
    "    plt.legend()\n",
    "    plt.show()"
   ],
   "metadata": {
    "collapsed": false
   }
  }
 ],
 "metadata": {
  "kernelspec": {
   "display_name": "Python 3",
   "language": "python",
   "name": "python3"
  },
  "language_info": {
   "codemirror_mode": {
    "name": "ipython",
    "version": 2
   },
   "file_extension": ".py",
   "mimetype": "text/x-python",
   "name": "python",
   "nbconvert_exporter": "python",
   "pygments_lexer": "ipython2",
   "version": "2.7.6"
  }
 },
 "nbformat": 4,
 "nbformat_minor": 0
}
